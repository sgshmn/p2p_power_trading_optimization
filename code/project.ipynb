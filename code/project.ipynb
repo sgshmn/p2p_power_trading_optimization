{
 "cells": [
  {
   "cell_type": "code",
   "execution_count": 1,
   "id": "9a80d432",
   "metadata": {},
   "outputs": [],
   "source": [
    "# from scipy.optimize import minimize\n",
    "# import numpy as np"
   ]
  },
  {
   "cell_type": "code",
   "execution_count": 2,
   "id": "85d5fb7f",
   "metadata": {},
   "outputs": [
    {
     "data": {
      "text/plain": [
       "  message: Optimization terminated successfully.\n",
       "  success: True\n",
       "   status: 0\n",
       "      fun: -0.9999999999982316\n",
       "        x: [ 1.571e+00 -1.571e+00]\n",
       "      nit: 3\n",
       "      jac: [-1.334e-06  1.326e-06]\n",
       " hess_inv: [[ 1.000e+00 -4.714e-04]\n",
       "            [-4.714e-04  1.000e+00]]\n",
       "     nfev: 27\n",
       "     njev: 9"
      ]
     },
     "execution_count": 2,
     "metadata": {},
     "output_type": "execute_result"
    }
   ],
   "source": [
    "# def func(xy):\n",
    "#     x,y = xy\n",
    "#     return np.sin(x)*np.sin(y)\n",
    "\n",
    "# minimize(func, (0.1, -0.1))"
   ]
  },
  {
   "cell_type": "code",
   "execution_count": 3,
   "id": "c1a6efa4",
   "metadata": {},
   "outputs": [
    {
     "data": {
      "text/plain": [
       "array([ 1.57079498, -1.57079501])"
      ]
     },
     "execution_count": 3,
     "metadata": {},
     "output_type": "execute_result"
    }
   ],
   "source": [
    "# result = minimize(func, (0.1, -0.1))\n",
    "# result.x"
   ]
  },
  {
   "cell_type": "code",
   "execution_count": 4,
   "id": "04889548",
   "metadata": {},
   "outputs": [
    {
     "data": {
      "text/plain": [
       " message: Optimization terminated successfully.\n",
       " success: True\n",
       "  status: 0\n",
       "     fun: -1.0\n",
       "       x: [ 1.571e+00 -1.571e+00]\n",
       "     nit: 2\n",
       "   direc: [[ 1.000e+00  0.000e+00]\n",
       "           [ 0.000e+00  1.000e+00]]\n",
       "    nfev: 38"
      ]
     },
     "execution_count": 4,
     "metadata": {},
     "output_type": "execute_result"
    }
   ],
   "source": [
    "# result = minimize(func, (0.1, -0.1), method=\"Powell\")\n",
    "# result"
   ]
  },
  {
   "cell_type": "code",
   "execution_count": 3,
   "id": "0f5125de",
   "metadata": {},
   "outputs": [
    {
     "name": "stdout",
     "output_type": "stream",
     "text": [
      "Collecting pandas\n",
      "  Using cached pandas-1.3.5-cp37-cp37m-win_amd64.whl (10.0 MB)\n",
      "Requirement already satisfied: python-dateutil>=2.7.3 in c:\\users\\165723\\appdata\\local\\miniconda3\\envs\\ict\\lib\\site-packages (from pandas) (2.8.2)\n",
      "Collecting numpy>=1.17.3\n",
      "  Using cached numpy-1.21.6-cp37-cp37m-win_amd64.whl (14.0 MB)\n",
      "Collecting pytz>=2017.3\n",
      "  Using cached pytz-2023.3-py2.py3-none-any.whl (502 kB)\n",
      "Requirement already satisfied: six>=1.5 in c:\\users\\165723\\appdata\\local\\miniconda3\\envs\\ict\\lib\\site-packages (from python-dateutil>=2.7.3->pandas) (1.16.0)\n",
      "Installing collected packages: pytz, numpy, pandas\n",
      "Successfully installed numpy-1.21.6 pandas-1.3.5 pytz-2023.3\n"
     ]
    }
   ],
   "source": [
    "!pip install pandas"
   ]
  },
  {
   "cell_type": "code",
   "execution_count": 4,
   "id": "5d6e6d23",
   "metadata": {},
   "outputs": [],
   "source": [
    "import pandas as pd"
   ]
  },
  {
   "cell_type": "code",
   "execution_count": 6,
   "id": "08e2e86d",
   "metadata": {},
   "outputs": [],
   "source": [
    "# import os"
   ]
  },
  {
   "cell_type": "code",
   "execution_count": 7,
   "id": "fd333d19",
   "metadata": {},
   "outputs": [
    {
     "data": {
      "text/plain": [
       "'C:\\\\Users\\\\woong\\\\p2p_power_trading_optimization\\\\code'"
      ]
     },
     "execution_count": 7,
     "metadata": {},
     "output_type": "execute_result"
    }
   ],
   "source": [
    "# os.getcwd()"
   ]
  },
  {
   "cell_type": "code",
   "execution_count": 14,
   "id": "6cad4b16",
   "metadata": {},
   "outputs": [
    {
     "data": {
      "text/html": [
       "<div>\n",
       "<style scoped>\n",
       "    .dataframe tbody tr th:only-of-type {\n",
       "        vertical-align: middle;\n",
       "    }\n",
       "\n",
       "    .dataframe tbody tr th {\n",
       "        vertical-align: top;\n",
       "    }\n",
       "\n",
       "    .dataframe thead th {\n",
       "        text-align: right;\n",
       "    }\n",
       "</style>\n",
       "<table border=\"1\" class=\"dataframe\">\n",
       "  <thead>\n",
       "    <tr style=\"text-align: right;\">\n",
       "      <th></th>\n",
       "      <th>자치구별(1)</th>\n",
       "      <th>계약종별(1)</th>\n",
       "      <th>계약종별(2)</th>\n",
       "      <th>2014. 01</th>\n",
       "      <th>2014. 02</th>\n",
       "      <th>2014. 03</th>\n",
       "      <th>2014. 04</th>\n",
       "      <th>2014. 05</th>\n",
       "      <th>2014. 06</th>\n",
       "      <th>2014. 07</th>\n",
       "      <th>...</th>\n",
       "      <th>2021. 03</th>\n",
       "      <th>2021. 04</th>\n",
       "      <th>2021. 05</th>\n",
       "      <th>2021. 06</th>\n",
       "      <th>2021. 07</th>\n",
       "      <th>2021. 08</th>\n",
       "      <th>2021. 09</th>\n",
       "      <th>2021. 10</th>\n",
       "      <th>2021. 11</th>\n",
       "      <th>2021. 12</th>\n",
       "    </tr>\n",
       "  </thead>\n",
       "  <tbody>\n",
       "    <tr>\n",
       "      <th>0</th>\n",
       "      <td>서울시</td>\n",
       "      <td>합계</td>\n",
       "      <td>주택용</td>\n",
       "      <td>1187068</td>\n",
       "      <td>1174713</td>\n",
       "      <td>1029043</td>\n",
       "      <td>1066275</td>\n",
       "      <td>1004896</td>\n",
       "      <td>1058559</td>\n",
       "      <td>1121938</td>\n",
       "      <td>...</td>\n",
       "      <td>1090282</td>\n",
       "      <td>1112408</td>\n",
       "      <td>1060023</td>\n",
       "      <td>1127819</td>\n",
       "      <td>1391210</td>\n",
       "      <td>1844125</td>\n",
       "      <td>1336306</td>\n",
       "      <td>1131013</td>\n",
       "      <td>1126419</td>\n",
       "      <td>1175771</td>\n",
       "    </tr>\n",
       "  </tbody>\n",
       "</table>\n",
       "<p>1 rows × 99 columns</p>\n",
       "</div>"
      ],
      "text/plain": [
       "  자치구별(1) 계약종별(1) 계약종별(2)  2014. 01  2014. 02  2014. 03  2014. 04  2014. 05  \\\n",
       "0     서울시      합계     주택용   1187068   1174713   1029043   1066275   1004896   \n",
       "\n",
       "   2014. 06  2014. 07  ...  2021. 03  2021. 04  2021. 05  2021. 06  2021. 07  \\\n",
       "0   1058559   1121938  ...   1090282   1112408   1060023   1127819   1391210   \n",
       "\n",
       "   2021. 08  2021. 09  2021. 10  2021. 11  2021. 12  \n",
       "0   1844125   1336306   1131013   1126419   1175771  \n",
       "\n",
       "[1 rows x 99 columns]"
      ]
     },
     "execution_count": 14,
     "metadata": {},
     "output_type": "execute_result"
    }
   ],
   "source": [
    "data1 = pd.read_csv('data/전력_사용량.csv')\n",
    "data1.head()"
   ]
  },
  {
   "cell_type": "code",
   "execution_count": 15,
   "id": "63a20670",
   "metadata": {},
   "outputs": [
    {
     "data": {
      "text/html": [
       "<div>\n",
       "<style scoped>\n",
       "    .dataframe tbody tr th:only-of-type {\n",
       "        vertical-align: middle;\n",
       "    }\n",
       "\n",
       "    .dataframe tbody tr th {\n",
       "        vertical-align: top;\n",
       "    }\n",
       "\n",
       "    .dataframe thead th {\n",
       "        text-align: right;\n",
       "    }\n",
       "</style>\n",
       "<table border=\"1\" class=\"dataframe\">\n",
       "  <thead>\n",
       "    <tr style=\"text-align: right;\">\n",
       "      <th></th>\n",
       "      <th>시점</th>\n",
       "      <th>신재생에너지 생산량 (TOE)</th>\n",
       "      <th>신재생에너지 생산량 (TOE).1</th>\n",
       "      <th>신재생에너지 생산량 (TOE).2</th>\n",
       "    </tr>\n",
       "  </thead>\n",
       "  <tbody>\n",
       "    <tr>\n",
       "      <th>0</th>\n",
       "      <td>시점</td>\n",
       "      <td>소계</td>\n",
       "      <td>태양광</td>\n",
       "      <td>풍력</td>\n",
       "    </tr>\n",
       "    <tr>\n",
       "      <th>1</th>\n",
       "      <td>2014</td>\n",
       "      <td>293656</td>\n",
       "      <td>11813</td>\n",
       "      <td>41</td>\n",
       "    </tr>\n",
       "    <tr>\n",
       "      <th>2</th>\n",
       "      <td>2015</td>\n",
       "      <td>335139</td>\n",
       "      <td>16676</td>\n",
       "      <td>43</td>\n",
       "    </tr>\n",
       "    <tr>\n",
       "      <th>3</th>\n",
       "      <td>2016</td>\n",
       "      <td>316806</td>\n",
       "      <td>19355</td>\n",
       "      <td>43</td>\n",
       "    </tr>\n",
       "    <tr>\n",
       "      <th>4</th>\n",
       "      <td>2017</td>\n",
       "      <td>350881</td>\n",
       "      <td>23664</td>\n",
       "      <td>46</td>\n",
       "    </tr>\n",
       "  </tbody>\n",
       "</table>\n",
       "</div>"
      ],
      "text/plain": [
       "     시점 신재생에너지 생산량 (TOE) 신재생에너지 생산량 (TOE).1 신재생에너지 생산량 (TOE).2\n",
       "0    시점               소계                태양광                 풍력\n",
       "1  2014           293656              11813                 41\n",
       "2  2015           335139              16676                 43\n",
       "3  2016           316806              19355                 43\n",
       "4  2017           350881              23664                 46"
      ]
     },
     "execution_count": 15,
     "metadata": {},
     "output_type": "execute_result"
    }
   ],
   "source": [
    "data2 = pd.read_csv('data/신재생에너지_생산량.csv')\n",
    "data2.head()"
   ]
  },
  {
   "cell_type": "code",
   "execution_count": 16,
   "id": "4ba5aae6",
   "metadata": {},
   "outputs": [
    {
     "data": {
      "text/html": [
       "<div>\n",
       "<style scoped>\n",
       "    .dataframe tbody tr th:only-of-type {\n",
       "        vertical-align: middle;\n",
       "    }\n",
       "\n",
       "    .dataframe tbody tr th {\n",
       "        vertical-align: top;\n",
       "    }\n",
       "\n",
       "    .dataframe thead th {\n",
       "        text-align: right;\n",
       "    }\n",
       "</style>\n",
       "<table border=\"1\" class=\"dataframe\">\n",
       "  <thead>\n",
       "    <tr style=\"text-align: right;\">\n",
       "      <th></th>\n",
       "      <th>동별(1)</th>\n",
       "      <th>2014. 01</th>\n",
       "      <th>2014. 02</th>\n",
       "      <th>2014. 03</th>\n",
       "      <th>2014. 04</th>\n",
       "      <th>2014. 05</th>\n",
       "      <th>2014. 06</th>\n",
       "      <th>2014. 07</th>\n",
       "      <th>2014. 08</th>\n",
       "      <th>2014. 09</th>\n",
       "      <th>...</th>\n",
       "      <th>2021. 03</th>\n",
       "      <th>2021. 04</th>\n",
       "      <th>2021. 05</th>\n",
       "      <th>2021. 06</th>\n",
       "      <th>2021. 07</th>\n",
       "      <th>2021. 08</th>\n",
       "      <th>2021. 09</th>\n",
       "      <th>2021. 10</th>\n",
       "      <th>2021. 11</th>\n",
       "      <th>2021. 12</th>\n",
       "    </tr>\n",
       "  </thead>\n",
       "  <tbody>\n",
       "    <tr>\n",
       "      <th>0</th>\n",
       "      <td>동별(1)</td>\n",
       "      <td>전체세대</td>\n",
       "      <td>전체세대</td>\n",
       "      <td>전체세대</td>\n",
       "      <td>전체세대</td>\n",
       "      <td>전체세대</td>\n",
       "      <td>전체세대</td>\n",
       "      <td>전체세대</td>\n",
       "      <td>전체세대</td>\n",
       "      <td>전체세대</td>\n",
       "      <td>...</td>\n",
       "      <td>전체세대</td>\n",
       "      <td>전체세대</td>\n",
       "      <td>전체세대</td>\n",
       "      <td>전체세대</td>\n",
       "      <td>전체세대</td>\n",
       "      <td>전체세대</td>\n",
       "      <td>전체세대</td>\n",
       "      <td>전체세대</td>\n",
       "      <td>전체세대</td>\n",
       "      <td>전체세대</td>\n",
       "    </tr>\n",
       "    <tr>\n",
       "      <th>1</th>\n",
       "      <td>합계</td>\n",
       "      <td>4182556</td>\n",
       "      <td>4188621</td>\n",
       "      <td>4190331</td>\n",
       "      <td>4189778</td>\n",
       "      <td>4189440</td>\n",
       "      <td>4189495</td>\n",
       "      <td>4190836</td>\n",
       "      <td>4193111</td>\n",
       "      <td>4195210</td>\n",
       "      <td>...</td>\n",
       "      <td>4400403</td>\n",
       "      <td>4403263</td>\n",
       "      <td>4403381</td>\n",
       "      <td>4405638</td>\n",
       "      <td>4409964</td>\n",
       "      <td>4416816</td>\n",
       "      <td>4421143</td>\n",
       "      <td>4422587</td>\n",
       "      <td>4424222</td>\n",
       "      <td>4426007</td>\n",
       "    </tr>\n",
       "  </tbody>\n",
       "</table>\n",
       "<p>2 rows × 97 columns</p>\n",
       "</div>"
      ],
      "text/plain": [
       "   동별(1) 2014. 01 2014. 02 2014. 03 2014. 04 2014. 05 2014. 06 2014. 07  \\\n",
       "0  동별(1)     전체세대     전체세대     전체세대     전체세대     전체세대     전체세대     전체세대   \n",
       "1     합계  4182556  4188621  4190331  4189778  4189440  4189495  4190836   \n",
       "\n",
       "  2014. 08 2014. 09  ... 2021. 03 2021. 04 2021. 05 2021. 06 2021. 07  \\\n",
       "0     전체세대     전체세대  ...     전체세대     전체세대     전체세대     전체세대     전체세대   \n",
       "1  4193111  4195210  ...  4400403  4403263  4403381  4405638  4409964   \n",
       "\n",
       "  2021. 08 2021. 09 2021. 10 2021. 11 2021. 12  \n",
       "0     전체세대     전체세대     전체세대     전체세대     전체세대  \n",
       "1  4416816  4421143  4422587  4424222  4426007  \n",
       "\n",
       "[2 rows x 97 columns]"
      ]
     },
     "execution_count": 16,
     "metadata": {},
     "output_type": "execute_result"
    }
   ],
   "source": [
    "data3 = pd.read_csv('data/세대수.csv')\n",
    "data3.head()"
   ]
  },
  {
   "cell_type": "code",
   "execution_count": null,
   "id": "0507cd84",
   "metadata": {},
   "outputs": [],
   "source": [
    "from scipy.optimize import minimize"
   ]
  }
 ],
 "metadata": {
  "kernelspec": {
   "display_name": "Python 3 (ipykernel)",
   "language": "python",
   "name": "python3"
  },
  "language_info": {
   "codemirror_mode": {
    "name": "ipython",
    "version": 3
   },
   "file_extension": ".py",
   "mimetype": "text/x-python",
   "name": "python",
   "nbconvert_exporter": "python",
   "pygments_lexer": "ipython3",
   "version": "3.7.16"
  }
 },
 "nbformat": 4,
 "nbformat_minor": 5
}
