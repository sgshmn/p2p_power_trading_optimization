{
 "cells": [
  {
   "cell_type": "code",
   "execution_count": 1,
   "id": "9a80d432",
   "metadata": {},
   "outputs": [],
   "source": [
    "# from scipy.optimize import minimize\n",
    "# import numpy as np"
   ]
  },
  {
   "cell_type": "code",
   "execution_count": 2,
   "id": "85d5fb7f",
   "metadata": {},
   "outputs": [
    {
     "data": {
      "text/plain": [
       "  message: Optimization terminated successfully.\n",
       "  success: True\n",
       "   status: 0\n",
       "      fun: -0.9999999999982316\n",
       "        x: [ 1.571e+00 -1.571e+00]\n",
       "      nit: 3\n",
       "      jac: [-1.334e-06  1.326e-06]\n",
       " hess_inv: [[ 1.000e+00 -4.714e-04]\n",
       "            [-4.714e-04  1.000e+00]]\n",
       "     nfev: 27\n",
       "     njev: 9"
      ]
     },
     "execution_count": 2,
     "metadata": {},
     "output_type": "execute_result"
    }
   ],
   "source": [
    "# def func(xy):\n",
    "#     x,y = xy\n",
    "#     return np.sin(x)*np.sin(y)\n",
    "\n",
    "# minimize(func, (0.1, -0.1))"
   ]
  },
  {
   "cell_type": "code",
   "execution_count": 3,
   "id": "c1a6efa4",
   "metadata": {},
   "outputs": [
    {
     "data": {
      "text/plain": [
       "array([ 1.57079498, -1.57079501])"
      ]
     },
     "execution_count": 3,
     "metadata": {},
     "output_type": "execute_result"
    }
   ],
   "source": [
    "# result = minimize(func, (0.1, -0.1))\n",
    "# result.x"
   ]
  },
  {
   "cell_type": "code",
   "execution_count": 4,
   "id": "04889548",
   "metadata": {},
   "outputs": [
    {
     "data": {
      "text/plain": [
       " message: Optimization terminated successfully.\n",
       " success: True\n",
       "  status: 0\n",
       "     fun: -1.0\n",
       "       x: [ 1.571e+00 -1.571e+00]\n",
       "     nit: 2\n",
       "   direc: [[ 1.000e+00  0.000e+00]\n",
       "           [ 0.000e+00  1.000e+00]]\n",
       "    nfev: 38"
      ]
     },
     "execution_count": 4,
     "metadata": {},
     "output_type": "execute_result"
    }
   ],
   "source": [
    "# result = minimize(func, (0.1, -0.1), method=\"Powell\")\n",
    "# result"
   ]
  },
  {
   "cell_type": "code",
   "execution_count": 8,
   "id": "5d6e6d23",
   "metadata": {},
   "outputs": [],
   "source": [
    "import pandas as pd"
   ]
  },
  {
   "cell_type": "code",
   "execution_count": 6,
   "id": "08e2e86d",
   "metadata": {},
   "outputs": [],
   "source": [
    "# import os"
   ]
  },
  {
   "cell_type": "code",
   "execution_count": 7,
   "id": "fd333d19",
   "metadata": {},
   "outputs": [
    {
     "data": {
      "text/plain": [
       "'C:\\\\Users\\\\woong\\\\p2p_power_trading_optimization\\\\code'"
      ]
     },
     "execution_count": 7,
     "metadata": {},
     "output_type": "execute_result"
    }
   ],
   "source": [
    "# os.getcwd()"
   ]
  },
  {
   "cell_type": "code",
   "execution_count": 10,
   "id": "38d80e5b",
   "metadata": {},
   "outputs": [
    {
     "data": {
      "text/html": [
       "<div>\n",
       "<style scoped>\n",
       "    .dataframe tbody tr th:only-of-type {\n",
       "        vertical-align: middle;\n",
       "    }\n",
       "\n",
       "    .dataframe tbody tr th {\n",
       "        vertical-align: top;\n",
       "    }\n",
       "\n",
       "    .dataframe thead th {\n",
       "        text-align: right;\n",
       "    }\n",
       "</style>\n",
       "<table border=\"1\" class=\"dataframe\">\n",
       "  <thead>\n",
       "    <tr style=\"text-align: right;\">\n",
       "      <th></th>\n",
       "      <th>자치구별(1)</th>\n",
       "      <th>계약종별(1)</th>\n",
       "      <th>계약종별(2)</th>\n",
       "      <th>2004. 01</th>\n",
       "      <th>2004. 02</th>\n",
       "      <th>2004. 03</th>\n",
       "      <th>2004. 04</th>\n",
       "      <th>2004. 05</th>\n",
       "      <th>2004. 06</th>\n",
       "      <th>2004. 07</th>\n",
       "      <th>...</th>\n",
       "      <th>2021. 03</th>\n",
       "      <th>2021. 04</th>\n",
       "      <th>2021. 05</th>\n",
       "      <th>2021. 06</th>\n",
       "      <th>2021. 07</th>\n",
       "      <th>2021. 08</th>\n",
       "      <th>2021. 09</th>\n",
       "      <th>2021. 10</th>\n",
       "      <th>2021. 11</th>\n",
       "      <th>2021. 12</th>\n",
       "    </tr>\n",
       "  </thead>\n",
       "  <tbody>\n",
       "    <tr>\n",
       "      <th>0</th>\n",
       "      <td>서울시</td>\n",
       "      <td>합계</td>\n",
       "      <td>주택용</td>\n",
       "      <td>997773</td>\n",
       "      <td>1022829</td>\n",
       "      <td>929970</td>\n",
       "      <td>926836</td>\n",
       "      <td>887453</td>\n",
       "      <td>903489</td>\n",
       "      <td>935120</td>\n",
       "      <td>...</td>\n",
       "      <td>1090282</td>\n",
       "      <td>1112408</td>\n",
       "      <td>1060023</td>\n",
       "      <td>1127819</td>\n",
       "      <td>1391210</td>\n",
       "      <td>1844125</td>\n",
       "      <td>1336306</td>\n",
       "      <td>1131013</td>\n",
       "      <td>1126419</td>\n",
       "      <td>1175771</td>\n",
       "    </tr>\n",
       "  </tbody>\n",
       "</table>\n",
       "<p>1 rows × 219 columns</p>\n",
       "</div>"
      ],
      "text/plain": [
       "  자치구별(1) 계약종별(1) 계약종별(2)  2004. 01  2004. 02  2004. 03  2004. 04  2004. 05   \n",
       "0     서울시      합계     주택용    997773   1022829    929970    926836    887453  \\\n",
       "\n",
       "   2004. 06  2004. 07  ...  2021. 03  2021. 04  2021. 05  2021. 06  2021. 07   \n",
       "0    903489    935120  ...   1090282   1112408   1060023   1127819   1391210  \\\n",
       "\n",
       "   2021. 08  2021. 09  2021. 10  2021. 11  2021. 12  \n",
       "0   1844125   1336306   1131013   1126419   1175771  \n",
       "\n",
       "[1 rows x 219 columns]"
      ]
     },
     "execution_count": 10,
     "metadata": {},
     "output_type": "execute_result"
    }
   ],
   "source": [
    "data = pd.read_csv('data/서울_전력_사용량(주택용).csv')\n",
    "data.head()"
   ]
  },
  {
   "cell_type": "code",
   "execution_count": 13,
   "id": "6cad4b16",
   "metadata": {},
   "outputs": [],
   "source": [
    "datak = data.iloc[0,3:]"
   ]
  },
  {
   "cell_type": "code",
   "execution_count": 16,
   "id": "63a20670",
   "metadata": {},
   "outputs": [
    {
     "data": {
      "text/plain": [
       "2004. 01     997773\n",
       "2004. 02    1022829\n",
       "2004. 03     929970\n",
       "2004. 04     926836\n",
       "2004. 05     887453\n",
       "Name: 0, dtype: object"
      ]
     },
     "execution_count": 16,
     "metadata": {},
     "output_type": "execute_result"
    }
   ],
   "source": [
    "datak.head()"
   ]
  },
  {
   "cell_type": "code",
   "execution_count": null,
   "id": "0507cd84",
   "metadata": {},
   "outputs": [],
   "source": [
    "from scipy.optimize import minimize"
   ]
  }
 ],
 "metadata": {
  "kernelspec": {
   "display_name": "Python 3 (ipykernel)",
   "language": "python",
   "name": "python3"
  },
  "language_info": {
   "codemirror_mode": {
    "name": "ipython",
    "version": 3
   },
   "file_extension": ".py",
   "mimetype": "text/x-python",
   "name": "python",
   "nbconvert_exporter": "python",
   "pygments_lexer": "ipython3",
   "version": "3.10.9"
  }
 },
 "nbformat": 4,
 "nbformat_minor": 5
}
